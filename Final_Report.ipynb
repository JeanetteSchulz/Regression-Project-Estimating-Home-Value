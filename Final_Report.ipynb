{
 "cells": [
  {
   "cell_type": "markdown",
   "id": "473abb40",
   "metadata": {},
   "source": [
    "\n",
    "<img src=\"Images/zillow_logo.png\" alt=\"Zillow Logo\" title=\"Zillow Logo\" width=\"300\" height=\"100\" align=\"right\"/>\n",
    " \n",
    "  \n",
    "# <p style=\"font-size:50px\" align=\"center\">The Price is Right!</p> <sub>by Jeanette Schulz 2021-12-13</sub>\n",
    "\n",
    "\n",
    "    \n",
    "<hr style=\"border:2px solid blue\"> </hr>\n",
    "\n",
    "# Project Goal"
   ]
  },
  {
   "cell_type": "code",
   "execution_count": null,
   "id": "7f46c285",
   "metadata": {},
   "outputs": [],
   "source": []
  },
  {
   "cell_type": "code",
   "execution_count": null,
   "id": "0026b11f",
   "metadata": {},
   "outputs": [],
   "source": []
  },
  {
   "cell_type": "code",
   "execution_count": null,
   "id": "99310485",
   "metadata": {},
   "outputs": [],
   "source": []
  },
  {
   "cell_type": "code",
   "execution_count": null,
   "id": "d7fb351c",
   "metadata": {},
   "outputs": [],
   "source": []
  },
  {
   "cell_type": "code",
   "execution_count": null,
   "id": "57f387d8",
   "metadata": {},
   "outputs": [],
   "source": []
  },
  {
   "cell_type": "code",
   "execution_count": null,
   "id": "ffca5a28",
   "metadata": {},
   "outputs": [],
   "source": []
  },
  {
   "cell_type": "code",
   "execution_count": null,
   "id": "1fabee55",
   "metadata": {},
   "outputs": [],
   "source": []
  },
  {
   "cell_type": "markdown",
   "id": "471e4f7e",
   "metadata": {},
   "source": [
    "<span style=\"color: red\">\n",
    "\n",
    "\n",
    "# Report Notebook (.ipynb) - Code Commenting\n",
    "Your code contains code comments that are helpful to the reader in understanding what each blocks/lines of code are doing.\n",
    "\n",
    "# Report Notebook (.ipynb) - Markdown\n",
    "Notebook contains adequate markdown that documents your thought process, decision making, and navigation through the pipeline. This should be present throughout the notebook consistently, wtih not just headers, but plenty of content that guides the reader and leaves no questions or doubt as to why you did something, e.g.\n",
    "\n",
    "# Report Notebook (.ipynb) - Written Conclusion Summary\n",
    "Your conclusion summary should addresses the questions you raised in the opening of the project, which we would want to see at the end of every final notebook. Ideally, when the deliverable is a report, the summary should tie together your analysis, the drivers of the outcome, and how you would expect your ML model to perform in the future on unseen data, in layman's terms.\n",
    "\n",
    "# Report Notebook (.ipynb) - Conclusion Recommendations\n",
    "Your notebook should end with actionable recommendations based on your insights and analysis on a way to make a better model, such as a new feature or an algorithm or something you found that doesn't work.\n",
    "    \n",
    "# Report Notebook (.ipynb) - Conclusion Next Steps\n",
    "Your conclusion should include next steps from a data science perspective that will assist in improving your research. Ideally, if you talk about trying more algorithms to improve performance, think about why you need to improve performance. And if the business calls for it, remember the best way to improve performance is to have better predictors/features. If you talk about gathering more data, being specific about what data you think will help you understand the problem better and why is the way to go!\n",
    "\n",
    "# Report Notebook (.ipynb) - No Errors    \n",
    "Your final notebook should run without error. One error in a notebook can lead to the rest of it erroring out. If you have a reader who doesn't know python, they will then not be able to consume your report.\n",
    "  \n",
    "</span>  "
   ]
  },
  {
   "cell_type": "code",
   "execution_count": null,
   "id": "7db303b1",
   "metadata": {},
   "outputs": [],
   "source": []
  }
 ],
 "metadata": {
  "kernelspec": {
   "display_name": "Python 3",
   "language": "python",
   "name": "python3"
  },
  "language_info": {
   "codemirror_mode": {
    "name": "ipython",
    "version": 3
   },
   "file_extension": ".py",
   "mimetype": "text/x-python",
   "name": "python",
   "nbconvert_exporter": "python",
   "pygments_lexer": "ipython3",
   "version": "3.8.8"
  }
 },
 "nbformat": 4,
 "nbformat_minor": 5
}
