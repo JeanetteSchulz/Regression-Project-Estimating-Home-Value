{
 "cells": [
  {
   "cell_type": "code",
   "execution_count": 1,
   "id": "bf6c4fad",
   "metadata": {},
   "outputs": [
    {
     "data": {
      "text/html": [
       "\n",
       "<style>\n",
       ".output_png {\n",
       "    display: table-cell;\n",
       "    text-align: center;\n",
       "    vertical-align: middle;\n",
       "}\n",
       "</style>\n"
      ],
      "text/plain": [
       "<IPython.core.display.HTML object>"
      ]
     },
     "execution_count": 1,
     "metadata": {},
     "output_type": "execute_result"
    }
   ],
   "source": [
    "# Getting the Libraries I Need\n",
    "import pandas as pd\n",
    "import numpy as np\n",
    "import seaborn as sns\n",
    "import scipy.stats as stats\n",
    "import matplotlib.pyplot as plt\n",
    "\n",
    "# Model Specific Libraries\n",
    "from sklearn.metrics import mean_squared_error\n",
    "from sklearn.linear_model import LinearRegression, LassoLars, TweedieRegressor\n",
    "\n",
    "# Blocking Warning Boxes\n",
    "import warnings\n",
    "warnings.filterwarnings(\"ignore\")\n",
    "\n",
    "# Import my own \"wrangle\" Module \n",
    "import wrangle\n",
    "\n",
    "# Remove Limits On Viewing Dataframes\n",
    "pd.set_option('display.max_columns', None)\n",
    "\n",
    "# Centers my charts in the notebook\n",
    "from IPython.core.display import HTML\n",
    "HTML(\"\"\"\n",
    "<style>\n",
    ".output_png {\n",
    "    display: table-cell;\n",
    "    text-align: center;\n",
    "    vertical-align: middle;\n",
    "}\n",
    "</style>\n",
    "\"\"\")"
   ]
  },
  {
   "cell_type": "markdown",
   "id": "21b8436c",
   "metadata": {},
   "source": [
    "\n",
    "<img src=\"Images/zillow_logo.png\" alt=\"Zillow Logo\" title=\"Zillow Logo\" width=\"300\" height=\"100\" align=\"right\"/>\n",
    " \n",
    "  \n",
    "# <p style=\"font-size:50px\" align=\"center\">The Price is Right!</p> <sub>by Jeanette Schulz 2021-12-13</sub>\n",
    "\n",
    "\n",
    "    "
   ]
  },
  {
   "cell_type": "markdown",
   "id": "88ff9814",
   "metadata": {},
   "source": [
    "<hr style=\"border:2px solid blue\"> </hr>\n",
    "\n",
    "\n",
    "\n",
    "# Goals\n",
    "Zillow has a model that is designed to predict the property tax assessed values ('taxvaluedollarcnt') of Single Family Properties that had a transaction during 2017. The goal of this project is to look for insights that can help possibly improve this model, and make recommendations on how to improve it. \n",
    "\n",
    "<hr style=\"border:2px solid blue\"> </hr>\n",
    "\n",
    "# Planning\n",
    "1. Setup my repository environment (.gitignore, README.md)\n",
    "2. Import and test my wrangle functions\n",
    "3. Define an test at least two hypothesis’s \n",
    "4. Train and Evalutate three different classification models.\n",
    "5. Create a csv file with predictions, from the model that perfoms the best\n",
    "6. Report my conclusions and next steps in a presentation.\n",
    "\n",
    "<hr style=\"border:2px solid blue\"> </hr>\n",
    "\n",
    "# Executive Summary\n",
    "My OLS Regressor Model had a Root Mean Squared Error (RMSE) of \\\\$215,650.06, beating my Baseline RMSE of \\\\$245,317.96.\n",
    "That's an improvement of $29,667.\n",
    "\n",
    "The data suggest Bathrooms, Bedrooms, and Squarefeet to be the most valued features. I recommend removing outliers from these columns to improve future modeling.\n",
    "\n",
    "\n",
    "<hr style=\"border:2px solid blue\"> </hr>\n",
    "\n",
    "\n",
    "\n",
    "# Acquiring the Data\n",
    "To acquire the Zillow data, I used the zillow database in the Codeup SQL server, and selected the requested columns. I then selected only Single Family Residential from the 2017 properties using propertylandusetypeid.\n",
    "> SELECT bedroomcnt, \n",
    "> bathroomcnt, \n",
    "> calculatedfinishedsquarefeet, \n",
    "> yearbuilt, \n",
    "> regionidzip, \n",
    "> fips,\n",
    "> taxvaluedollarcnt  \n",
    "> FROM properties_2017  \n",
    "> JOIN predictions_2017 USING (parcelid)  \n",
    "> WHERE propertylandusetypeid = 261; \n",
    " "
   ]
  },
  {
   "cell_type": "code",
   "execution_count": 2,
   "id": "ca1e15e6",
   "metadata": {},
   "outputs": [
    {
     "data": {
      "text/html": [
       "<div>\n",
       "<style scoped>\n",
       "    .dataframe tbody tr th:only-of-type {\n",
       "        vertical-align: middle;\n",
       "    }\n",
       "\n",
       "    .dataframe tbody tr th {\n",
       "        vertical-align: top;\n",
       "    }\n",
       "\n",
       "    .dataframe thead th {\n",
       "        text-align: right;\n",
       "    }\n",
       "</style>\n",
       "<table border=\"1\" class=\"dataframe\">\n",
       "  <thead>\n",
       "    <tr style=\"text-align: right;\">\n",
       "      <th></th>\n",
       "      <th>bedrooms</th>\n",
       "      <th>bathrooms</th>\n",
       "      <th>squarefeet</th>\n",
       "      <th>year_built</th>\n",
       "      <th>regionidzip</th>\n",
       "      <th>fips</th>\n",
       "      <th>tax_value</th>\n",
       "    </tr>\n",
       "  </thead>\n",
       "  <tbody>\n",
       "    <tr>\n",
       "      <th>0</th>\n",
       "      <td>4.0</td>\n",
       "      <td>3.5</td>\n",
       "      <td>3100.0</td>\n",
       "      <td>1998.0</td>\n",
       "      <td>96978.0</td>\n",
       "      <td>6059.0</td>\n",
       "      <td>1023282.0</td>\n",
       "    </tr>\n",
       "    <tr>\n",
       "      <th>1</th>\n",
       "      <td>2.0</td>\n",
       "      <td>1.0</td>\n",
       "      <td>1465.0</td>\n",
       "      <td>1967.0</td>\n",
       "      <td>97099.0</td>\n",
       "      <td>6111.0</td>\n",
       "      <td>464000.0</td>\n",
       "    </tr>\n",
       "    <tr>\n",
       "      <th>2</th>\n",
       "      <td>3.0</td>\n",
       "      <td>2.0</td>\n",
       "      <td>1243.0</td>\n",
       "      <td>1962.0</td>\n",
       "      <td>97078.0</td>\n",
       "      <td>6059.0</td>\n",
       "      <td>564778.0</td>\n",
       "    </tr>\n",
       "    <tr>\n",
       "      <th>3</th>\n",
       "      <td>4.0</td>\n",
       "      <td>3.0</td>\n",
       "      <td>2376.0</td>\n",
       "      <td>1970.0</td>\n",
       "      <td>96330.0</td>\n",
       "      <td>6037.0</td>\n",
       "      <td>145143.0</td>\n",
       "    </tr>\n",
       "    <tr>\n",
       "      <th>4</th>\n",
       "      <td>4.0</td>\n",
       "      <td>3.0</td>\n",
       "      <td>2962.0</td>\n",
       "      <td>1950.0</td>\n",
       "      <td>96293.0</td>\n",
       "      <td>6037.0</td>\n",
       "      <td>773303.0</td>\n",
       "    </tr>\n",
       "  </tbody>\n",
       "</table>\n",
       "</div>"
      ],
      "text/plain": [
       "   bedrooms  bathrooms  squarefeet  year_built  regionidzip    fips  tax_value\n",
       "0       4.0        3.5      3100.0      1998.0      96978.0  6059.0  1023282.0\n",
       "1       2.0        1.0      1465.0      1967.0      97099.0  6111.0   464000.0\n",
       "2       3.0        2.0      1243.0      1962.0      97078.0  6059.0   564778.0\n",
       "3       4.0        3.0      2376.0      1970.0      96330.0  6037.0   145143.0\n",
       "4       4.0        3.0      2962.0      1950.0      96293.0  6037.0   773303.0"
      ]
     },
     "execution_count": 2,
     "metadata": {},
     "output_type": "execute_result"
    }
   ],
   "source": [
    "zillow = wrangle.get_zillow_data()\n",
    "zillow.head()"
   ]
  },
  {
   "cell_type": "code",
   "execution_count": 3,
   "id": "8ed1074f",
   "metadata": {},
   "outputs": [
    {
     "data": {
      "text/plain": [
       "(52442, 7)"
      ]
     },
     "execution_count": 3,
     "metadata": {},
     "output_type": "execute_result"
    }
   ],
   "source": [
    "zillow.shape"
   ]
  },
  {
   "cell_type": "markdown",
   "id": "d05bb569",
   "metadata": {},
   "source": [
    "<hr style=\"border:2px solid blue\"> </hr>\n",
    "\n",
    "\n",
    "# Preparing the Data\n",
    "\n",
    "\n",
    "To clean the data, I did the following:\n",
    "\n",
    "#### 1. Dropping all rows with NULL values:  \n",
    "I decided to drop all NULLS because removing them removed less than 1% of my overall data. So it wouldn't affect my exploration or modeling if I dropped them.\n",
    "\n",
    "#### 2. Dropping all rows that had any value as Zero.\n",
    "Having a zero bedroom house does not make sense. I believed zeros in my data to be as bad as NULLS. Therefore I removed them to improve future modeling.\n",
    "\n",
    "#### 3. Converting 4 columns  to an integer dtype:\n",
    "From the database regionidzip, bedrooms, year_built, and fips were represented as floats. Seeing as all of these are supposed to represent whole numbers, I decided to change these comluns to be integers.\n",
    "\n",
    "\n",
    "#### 4. Removing outliers from 'bedrooms', 'bathrooms', 'squarefeet', and 'tax_value'.\n",
    "There were some extremely large houses with 17 bathrooms that I believed would not represent the average Single Family Residential. So I removed these with statistics upper and lower bounds.\n",
    "\n",
    "#### 5. Feature Engineering a column named 'years_old'.  \n",
    "To make it easier to see how old a house was in 2017, I simply made a column that subtracted the year_built from 2017.\n",
    "\n",
    " \n",
    "\n",
    " \n"
   ]
  },
  {
   "cell_type": "code",
   "execution_count": 4,
   "id": "9dd03931",
   "metadata": {
    "scrolled": true
   },
   "outputs": [
    {
     "data": {
      "text/html": [
       "<div>\n",
       "<style scoped>\n",
       "    .dataframe tbody tr th:only-of-type {\n",
       "        vertical-align: middle;\n",
       "    }\n",
       "\n",
       "    .dataframe tbody tr th {\n",
       "        vertical-align: top;\n",
       "    }\n",
       "\n",
       "    .dataframe thead th {\n",
       "        text-align: right;\n",
       "    }\n",
       "</style>\n",
       "<table border=\"1\" class=\"dataframe\">\n",
       "  <thead>\n",
       "    <tr style=\"text-align: right;\">\n",
       "      <th></th>\n",
       "      <th>bedrooms</th>\n",
       "      <th>bathrooms</th>\n",
       "      <th>squarefeet</th>\n",
       "      <th>year_built</th>\n",
       "      <th>regionidzip</th>\n",
       "      <th>fips</th>\n",
       "      <th>tax_value</th>\n",
       "      <th>years_old</th>\n",
       "    </tr>\n",
       "  </thead>\n",
       "  <tbody>\n",
       "    <tr>\n",
       "      <th>0</th>\n",
       "      <td>4</td>\n",
       "      <td>3.5</td>\n",
       "      <td>3100.0</td>\n",
       "      <td>1998</td>\n",
       "      <td>96978</td>\n",
       "      <td>6059</td>\n",
       "      <td>1023282.0</td>\n",
       "      <td>19</td>\n",
       "    </tr>\n",
       "    <tr>\n",
       "      <th>1</th>\n",
       "      <td>2</td>\n",
       "      <td>1.0</td>\n",
       "      <td>1465.0</td>\n",
       "      <td>1967</td>\n",
       "      <td>97099</td>\n",
       "      <td>6111</td>\n",
       "      <td>464000.0</td>\n",
       "      <td>50</td>\n",
       "    </tr>\n",
       "    <tr>\n",
       "      <th>2</th>\n",
       "      <td>3</td>\n",
       "      <td>2.0</td>\n",
       "      <td>1243.0</td>\n",
       "      <td>1962</td>\n",
       "      <td>97078</td>\n",
       "      <td>6059</td>\n",
       "      <td>564778.0</td>\n",
       "      <td>55</td>\n",
       "    </tr>\n",
       "    <tr>\n",
       "      <th>3</th>\n",
       "      <td>4</td>\n",
       "      <td>3.0</td>\n",
       "      <td>2376.0</td>\n",
       "      <td>1970</td>\n",
       "      <td>96330</td>\n",
       "      <td>6037</td>\n",
       "      <td>145143.0</td>\n",
       "      <td>47</td>\n",
       "    </tr>\n",
       "    <tr>\n",
       "      <th>4</th>\n",
       "      <td>4</td>\n",
       "      <td>3.0</td>\n",
       "      <td>2962.0</td>\n",
       "      <td>1950</td>\n",
       "      <td>96293</td>\n",
       "      <td>6037</td>\n",
       "      <td>773303.0</td>\n",
       "      <td>67</td>\n",
       "    </tr>\n",
       "  </tbody>\n",
       "</table>\n",
       "</div>"
      ],
      "text/plain": [
       "   bedrooms  bathrooms  squarefeet  year_built  regionidzip  fips  tax_value  \\\n",
       "0         4        3.5      3100.0        1998        96978  6059  1023282.0   \n",
       "1         2        1.0      1465.0        1967        97099  6111   464000.0   \n",
       "2         3        2.0      1243.0        1962        97078  6059   564778.0   \n",
       "3         4        3.0      2376.0        1970        96330  6037   145143.0   \n",
       "4         4        3.0      2962.0        1950        96293  6037   773303.0   \n",
       "\n",
       "   years_old  \n",
       "0         19  \n",
       "1         50  \n",
       "2         55  \n",
       "3         47  \n",
       "4         67  "
      ]
     },
     "execution_count": 4,
     "metadata": {},
     "output_type": "execute_result"
    }
   ],
   "source": [
    "telco = wrangle.prepare_zillow(wrangle.get_zillow_data())\n",
    "telco.head()"
   ]
  },
  {
   "cell_type": "markdown",
   "id": "0efdceb4",
   "metadata": {},
   "source": [
    "<hr style=\"border:2px solid blue\"> </hr>\n",
    "\n",
    "# Explore the Train dataset\n",
    "\n",
    "\n",
    "\n"
   ]
  },
  {
   "cell_type": "code",
   "execution_count": 5,
   "id": "25d04e22",
   "metadata": {},
   "outputs": [],
   "source": [
    "# Using the functions from my compiled wrangle file\n",
    "train, validate, test = wrangle.wrangle_zillow()"
   ]
  },
  {
   "cell_type": "code",
   "execution_count": 6,
   "id": "9a04b72c",
   "metadata": {},
   "outputs": [],
   "source": [
    "# Assigning my features to X, and target variable to y, for each split dataframe\n",
    "\n",
    "X_train = train.drop(columns=['tax_value'])\n",
    "y_train = train.tax_value\n",
    "\n",
    "X_validate = validate.drop(columns=['tax_value'])\n",
    "y_validate = validate.tax_value\n",
    "\n",
    "X_test = test.drop(columns=['tax_value'])\n",
    "y_test = test.tax_value"
   ]
  },
  {
   "cell_type": "markdown",
   "id": "bfe6551b",
   "metadata": {},
   "source": [
    "Select Kbest"
   ]
  },
  {
   "cell_type": "code",
   "execution_count": 7,
   "id": "d951da13",
   "metadata": {},
   "outputs": [
    {
     "name": "stdout",
     "output_type": "stream",
     "text": [
      "KBest Top Two Features: ['bathrooms', 'squarefeet']\n"
     ]
    }
   ],
   "source": [
    "from sklearn.feature_selection import SelectKBest, f_regression\n",
    "\n",
    "# Parameters: f_regression stats test, give me 2 features\n",
    "f_selector = SelectKBest(f_regression, k=2)\n",
    "\n",
    "# Find the top 2 X's correlated with y\n",
    "f_selector.fit(X_train, y_train)\n",
    "\n",
    "# Boolean mask of whether the column was selected or not. \n",
    "feature_mask = f_selector.get_support()\n",
    "\n",
    "# Get list of top K features. \n",
    "f_feature = X_train.iloc[:,feature_mask].columns.tolist()\n",
    "\n",
    "print(\"KBest Top Two Features:\", f_feature)"
   ]
  },
  {
   "cell_type": "markdown",
   "id": "09532e4a",
   "metadata": {},
   "source": [
    "Recursive Feature Elimination"
   ]
  },
  {
   "cell_type": "code",
   "execution_count": 8,
   "id": "f3610f1a",
   "metadata": {},
   "outputs": [
    {
     "name": "stdout",
     "output_type": "stream",
     "text": [
      "Recursive Feature Elimination Top Two Features: ['bedrooms', 'bathrooms']\n"
     ]
    },
    {
     "data": {
      "text/html": [
       "<div>\n",
       "<style scoped>\n",
       "    .dataframe tbody tr th:only-of-type {\n",
       "        vertical-align: middle;\n",
       "    }\n",
       "\n",
       "    .dataframe tbody tr th {\n",
       "        vertical-align: top;\n",
       "    }\n",
       "\n",
       "    .dataframe thead th {\n",
       "        text-align: right;\n",
       "    }\n",
       "</style>\n",
       "<table border=\"1\" class=\"dataframe\">\n",
       "  <thead>\n",
       "    <tr style=\"text-align: right;\">\n",
       "      <th></th>\n",
       "      <th>Var</th>\n",
       "      <th>Rank</th>\n",
       "    </tr>\n",
       "  </thead>\n",
       "  <tbody>\n",
       "    <tr>\n",
       "      <th>0</th>\n",
       "      <td>bedrooms</td>\n",
       "      <td>1</td>\n",
       "    </tr>\n",
       "    <tr>\n",
       "      <th>1</th>\n",
       "      <td>bathrooms</td>\n",
       "      <td>1</td>\n",
       "    </tr>\n",
       "    <tr>\n",
       "      <th>5</th>\n",
       "      <td>fips</td>\n",
       "      <td>2</td>\n",
       "    </tr>\n",
       "    <tr>\n",
       "      <th>3</th>\n",
       "      <td>year_built</td>\n",
       "      <td>3</td>\n",
       "    </tr>\n",
       "    <tr>\n",
       "      <th>2</th>\n",
       "      <td>squarefeet</td>\n",
       "      <td>4</td>\n",
       "    </tr>\n",
       "    <tr>\n",
       "      <th>6</th>\n",
       "      <td>years_old</td>\n",
       "      <td>5</td>\n",
       "    </tr>\n",
       "    <tr>\n",
       "      <th>4</th>\n",
       "      <td>regionidzip</td>\n",
       "      <td>6</td>\n",
       "    </tr>\n",
       "  </tbody>\n",
       "</table>\n",
       "</div>"
      ],
      "text/plain": [
       "           Var  Rank\n",
       "0     bedrooms     1\n",
       "1    bathrooms     1\n",
       "5         fips     2\n",
       "3   year_built     3\n",
       "2   squarefeet     4\n",
       "6    years_old     5\n",
       "4  regionidzip     6"
      ]
     },
     "execution_count": 8,
     "metadata": {},
     "output_type": "execute_result"
    }
   ],
   "source": [
    "from sklearn.linear_model import LinearRegression\n",
    "from sklearn.feature_selection import RFE\n",
    "\n",
    "# initialize the ML algorithm\n",
    "lm = LinearRegression()\n",
    "\n",
    "# create the rfe object, indicating the ML object (lm) and the number of features I want to end up with. \n",
    "rfe = RFE(lm, 2)\n",
    "\n",
    "# fit the data using RFE\n",
    "rfe.fit(X_train,y_train)  \n",
    "\n",
    "# get the mask of the columns selected\n",
    "feature_mask = rfe.support_\n",
    "\n",
    "# get list of the column names. \n",
    "rfe_feature = X_train.iloc[:,feature_mask].columns.tolist()\n",
    "\n",
    "print(\"Recursive Feature Elimination Top Two Features:\",rfe_feature)\n",
    "\n",
    "# view list of columns and their ranking\n",
    "# get the ranks\n",
    "var_ranks = rfe.ranking_\n",
    "# get the variable names\n",
    "var_names = X_train.columns.tolist()\n",
    "# combine ranks and names into a df for clean viewing\n",
    "rfe_ranks_df = pd.DataFrame({'Var': var_names, 'Rank': var_ranks})\n",
    "# sort the df by rank\n",
    "rfe_ranks_df.sort_values('Rank')"
   ]
  },
  {
   "cell_type": "markdown",
   "id": "dcf9f5d5",
   "metadata": {},
   "source": [
    "Two different models put bathrooms at the top of the list (Kbest comes in reverse order). With this, I will assume my top three features to be Bathrooms, Bedrooms, and Squarefeet. I'll explore the other features with some statistical tests to check if they meet common knowledge."
   ]
  },
  {
   "cell_type": "code",
   "execution_count": 9,
   "id": "c237ccca",
   "metadata": {},
   "outputs": [],
   "source": [
    "# Assuming a confidence level of 95% \n",
    "alpha = 0.05"
   ]
  },
  {
   "cell_type": "markdown",
   "id": "bd5669af",
   "metadata": {},
   "source": [
    "#### 1. Are homes with more bedrooms worth more?\n",
    "- H<sub>0</sub>: There is no difference in tax_value between homes with 2 bedrooms vs homes with 5 bedrooms.\n",
    "- H<sub>a</sub>: There is a difference in tax_value between homes with 2 bedrooms vs homes with 5 bedrooms.\n",
    "\n"
   ]
  },
  {
   "cell_type": "code",
   "execution_count": 10,
   "id": "53a36981",
   "metadata": {},
   "outputs": [
    {
     "name": "stdout",
     "output_type": "stream",
     "text": [
      "We reject the null hypothesis\n"
     ]
    }
   ],
   "source": [
    "# I'm going to create some array's for this question\n",
    "tax_value_2Bd = train[train.bedrooms == 2].tax_value\n",
    "tax_value_5Bd = train[train.bedrooms == 5].tax_value\n",
    "\n",
    "# This is a two-sampled, two-tailed test. \n",
    "t, p = stats.ttest_ind(tax_value_2Bd, tax_value_5Bd, equal_var=False)\n",
    "\n",
    "if p < alpha:\n",
    "    print(\"We reject the null hypothesis\")\n",
    "\n",
    "else:\n",
    "    print(\"We fail to reject the null hypothesis\")"
   ]
  },
  {
   "cell_type": "markdown",
   "id": "4c9ae1e4",
   "metadata": {},
   "source": [
    ">Conclusion: There is a difference in tax_value between homes with 2 bedrooms vs homes with 5 bedrooms.\n",
    ">\n",
    ">Takeaway: The data shows that increased bedroom count correlates with increased tax_value.\n",
    "\n",
    "This can also be seen with this chart, comparing homes with different bedroom counts to thier tax value:"
   ]
  },
  {
   "cell_type": "code",
   "execution_count": 11,
   "id": "02fce231",
   "metadata": {},
   "outputs": [
    {
     "data": {
      "image/png": "[encoded data removed]",
      "text/plain": [
       "<Figure size 432x288 with 1 Axes>"
      ]
     },
     "metadata": {
      "needs_background": "light"
     },
     "output_type": "display_data"
    }
   ],
   "source": [
    "sns.boxplot(x= 'bedrooms', y= 'tax_value', data= train)\n",
    "plt.title('Homes with more Bedrooms have Higher Tax Value')\n",
    "plt.show();"
   ]
  },
  {
   "cell_type": "markdown",
   "id": "03bcda44",
   "metadata": {},
   "source": [
    "2. Are younger homes higher in tax_value than old homes?\n",
    "- H<sub>0</sub>: Homes older than the average cost more or the same as homes younger than the average\n",
    "- H<sub>a</sub>: Homes older than the average cost less than homes younger than the average\n"
   ]
  },
  {
   "cell_type": "code",
   "execution_count": 12,
   "id": "7c1680aa",
   "metadata": {},
   "outputs": [
    {
     "name": "stdout",
     "output_type": "stream",
     "text": [
      "We reject the null hypothesis\n"
     ]
    }
   ],
   "source": [
    "# Defining the arrays i want for my t-test\n",
    "older_homes = train[train.years_old >= train.years_old.mean()].tax_value\n",
    "younger_homes = train[train.years_old < train.years_old.mean()].tax_value\n",
    "\n",
    "# Define my hypothesis before testing:\n",
    "# H0: Homes older than the average cost more or the same as homes younger than the average\n",
    "# Ha: Homes older than the average cost less than homes younger than the average\n",
    "\n",
    "# use stats.ttest to calculate t and p\n",
    "t, p = stats.ttest_ind(older_homes, younger_homes, equal_var=False)\n",
    "\n",
    "if p/2 < alpha:\n",
    "    print(\"We reject the null hypothesis\")\n",
    "\n",
    "else:\n",
    "    print(\"We fail to reject the null hypothesis\")"
   ]
  },
  {
   "cell_type": "markdown",
   "id": "de85ad8f",
   "metadata": {},
   "source": [
    ">Conclusion: Homes older than the average cost less than homes younger than the average.\n",
    ">\n",
    ">Takeaway: Year_built was number 3 in most valued features, so this makes sense. Younger homes have higher tax value than older homes. \n",
    "\n",
    "This chart shows tax_value of homes through the years:"
   ]
  },
  {
   "cell_type": "code",
   "execution_count": 13,
   "id": "09902a4d",
   "metadata": {},
   "outputs": [
    {
     "data": {
      "image/png": "[encoded data removed]",
      "text/plain": [
       "<Figure size 432x288 with 1 Axes>"
      ]
     },
     "metadata": {
      "needs_background": "light"
     },
     "output_type": "display_data"
    }
   ],
   "source": [
    "sns.lineplot(x= 'year_built', y= 'tax_value', data= train)\n",
    "plt.title('Younger Homes have Higher Tax Value')\n",
    "plt.show();"
   ]
  },
  {
   "cell_type": "markdown",
   "id": "d5119a45",
   "metadata": {},
   "source": [
    "<hr style=\"border:2px solid blue\"> </hr>\n",
    "\n",
    "# Model and Evaluation\n",
    "\n",
    "<hr style=\"border:2px solid blue\"> </hr>\n",
    "\n"
   ]
  },
  {
   "cell_type": "markdown",
   "id": "955d73ab",
   "metadata": {},
   "source": [
    "\n",
    "## Baseline Model"
   ]
  },
  {
   "cell_type": "code",
   "execution_count": 14,
   "id": "ca5ec1a8",
   "metadata": {},
   "outputs": [
    {
     "data": {
      "text/html": [
       "<div>\n",
       "<style scoped>\n",
       "    .dataframe tbody tr th:only-of-type {\n",
       "        vertical-align: middle;\n",
       "    }\n",
       "\n",
       "    .dataframe tbody tr th {\n",
       "        vertical-align: top;\n",
       "    }\n",
       "\n",
       "    .dataframe thead th {\n",
       "        text-align: right;\n",
       "    }\n",
       "</style>\n",
       "<table border=\"1\" class=\"dataframe\">\n",
       "  <thead>\n",
       "    <tr style=\"text-align: right;\">\n",
       "      <th></th>\n",
       "      <th>model</th>\n",
       "      <th>RMSE_train</th>\n",
       "      <th>RMSE_validate</th>\n",
       "    </tr>\n",
       "  </thead>\n",
       "  <tbody>\n",
       "    <tr>\n",
       "      <th>0</th>\n",
       "      <td>Baseline</td>\n",
       "      <td>243722.125753</td>\n",
       "      <td>245317.957751</td>\n",
       "    </tr>\n",
       "  </tbody>\n",
       "</table>\n",
       "</div>"
      ],
      "text/plain": [
       "      model     RMSE_train  RMSE_validate\n",
       "0  Baseline  243722.125753  245317.957751"
      ]
     },
     "execution_count": 14,
     "metadata": {},
     "output_type": "execute_result"
    }
   ],
   "source": [
    "# We need y_train and y_validate to be dataframes to append the new columns with predicted values. \n",
    "y_train = pd.DataFrame(y_train)\n",
    "y_validate = pd.DataFrame(y_validate)\n",
    "\n",
    "# The Project specs told us to use mean for our baseline\n",
    "# 1. Predict tax_value_pred_mean\n",
    "tax_value_pred_mean = y_train.tax_value.mean()\n",
    "y_train['tax_value_pred_mean'] = tax_value_pred_mean\n",
    "y_validate['tax_value_pred_mean'] = tax_value_pred_mean\n",
    "\n",
    "# 2. RMSE of tax_value_pred_mean\n",
    "rmse_train = mean_squared_error(y_train.tax_value, y_train.tax_value_pred_mean) ** (0.5)\n",
    "rmse_validate = mean_squared_error(y_validate.tax_value, y_validate.tax_value_pred_mean) ** (0.5)\n",
    "\n",
    "metric_df = pd.DataFrame(data=[\n",
    "            {\n",
    "                'model': 'Baseline', \n",
    "                'RMSE_train': rmse_train,\n",
    "                'RMSE_validate': rmse_validate\n",
    "                }\n",
    "            ])\n",
    "metric_df"
   ]
  },
  {
   "cell_type": "markdown",
   "id": "eda7fab1",
   "metadata": {},
   "source": [
    "## Three Models, One Dataframe"
   ]
  },
  {
   "cell_type": "code",
   "execution_count": 15,
   "id": "75d21fd2",
   "metadata": {},
   "outputs": [
    {
     "data": {
      "text/html": [
       "<div>\n",
       "<style scoped>\n",
       "    .dataframe tbody tr th:only-of-type {\n",
       "        vertical-align: middle;\n",
       "    }\n",
       "\n",
       "    .dataframe tbody tr th {\n",
       "        vertical-align: top;\n",
       "    }\n",
       "\n",
       "    .dataframe thead th {\n",
       "        text-align: right;\n",
       "    }\n",
       "</style>\n",
       "<table border=\"1\" class=\"dataframe\">\n",
       "  <thead>\n",
       "    <tr style=\"text-align: right;\">\n",
       "      <th></th>\n",
       "      <th>model</th>\n",
       "      <th>RMSE_train</th>\n",
       "      <th>RMSE_validate</th>\n",
       "    </tr>\n",
       "  </thead>\n",
       "  <tbody>\n",
       "    <tr>\n",
       "      <th>0</th>\n",
       "      <td>Baseline</td>\n",
       "      <td>243722.125753</td>\n",
       "      <td>245317.957751</td>\n",
       "    </tr>\n",
       "    <tr>\n",
       "      <th>1</th>\n",
       "      <td>OLS Regressor</td>\n",
       "      <td>215650.064606</td>\n",
       "      <td>217342.952446</td>\n",
       "    </tr>\n",
       "    <tr>\n",
       "      <th>2</th>\n",
       "      <td>LassoLars</td>\n",
       "      <td>215650.064679</td>\n",
       "      <td>217342.981245</td>\n",
       "    </tr>\n",
       "    <tr>\n",
       "      <th>3</th>\n",
       "      <td>Tweedie Regressor</td>\n",
       "      <td>243722.125753</td>\n",
       "      <td>245317.957751</td>\n",
       "    </tr>\n",
       "  </tbody>\n",
       "</table>\n",
       "</div>"
      ],
      "text/plain": [
       "               model     RMSE_train  RMSE_validate\n",
       "0           Baseline  243722.125753  245317.957751\n",
       "1      OLS Regressor  215650.064606  217342.952446\n",
       "2          LassoLars  215650.064679  217342.981245\n",
       "3  Tweedie Regressor  243722.125753  245317.957751"
      ]
     },
     "execution_count": 15,
     "metadata": {},
     "output_type": "execute_result"
    }
   ],
   "source": [
    "# Linear Regression Modeling\n",
    "lr = LinearRegression()\n",
    "lr.fit(X_train, y_train.tax_value)\n",
    "y_train['tax_value_pred_LR'] = lr.predict(X_train)\n",
    "y_validate['tax_value_pred_LR'] = lr.predict(X_validate)\n",
    "rmse_train = mean_squared_error(y_train.tax_value, y_train.tax_value_pred_LR) ** (1/2)\n",
    "rmse_validate = mean_squared_error(y_validate.tax_value, y_validate.tax_value_pred_LR) ** (1/2)\n",
    "\n",
    "# Add model results to results dataframe\n",
    "metric_df = metric_df.append({\n",
    "    'model': 'OLS Regressor', \n",
    "    'RMSE_train': rmse_train,\n",
    "    'RMSE_validate': rmse_validate,\n",
    "    }, ignore_index=True)\n",
    "\n",
    "# LassoLars\n",
    "lars = LassoLars(alpha=0.01)\n",
    "lars.fit(X_train, y_train.tax_value)\n",
    "y_train['tax_value_lassolars'] = lars.predict(X_train)\n",
    "rmse_train = mean_squared_error(y_train.tax_value, y_train.tax_value_lassolars) ** (1/2)\n",
    "y_validate['tax_value_lassolars'] = lars.predict(X_validate)\n",
    "rmse_validate = mean_squared_error(y_validate.tax_value, y_validate.tax_value_lassolars) ** (1/2)\n",
    "metric_df = metric_df.append({\n",
    "    'model': 'LassoLars', \n",
    "    'RMSE_train': rmse_train,\n",
    "    'RMSE_validate': rmse_validate,\n",
    "    }, ignore_index=True)\n",
    "\n",
    "\n",
    "# Tweedie Regressor\n",
    "glm = TweedieRegressor(power=1, alpha=0)\n",
    "glm.fit(X_train, y_train.tax_value)\n",
    "y_train['tax_value_pred_glm'] = glm.predict(X_train)\n",
    "rmse_train = mean_squared_error(y_train.tax_value, y_train.tax_value_pred_glm) ** (1/2)\n",
    "y_validate['tax_value_pred_glm'] = glm.predict(X_validate)\n",
    "rmse_validate = mean_squared_error(y_validate.tax_value, y_validate.tax_value_pred_glm) ** (1/2)\n",
    "\n",
    "metric_df = metric_df.append({\n",
    "    'model': 'Tweedie Regressor', \n",
    "    'RMSE_train': rmse_train,\n",
    "    'RMSE_validate': rmse_validate,\n",
    "    }, ignore_index=True)\n",
    "\n",
    "metric_df"
   ]
  },
  {
   "cell_type": "markdown",
   "id": "d3078355",
   "metadata": {},
   "source": [
    "\n",
    "## Model Takeaways:\n",
    "OLS Regressor and LassoLars did better than my Baseline Model.\n",
    "\n",
    "### The OLS Regressor Model had the best Root Mean Squared Error. \n",
    "- Validate Dataset had an RMSE of \\\\$217,342.95, which is better by \\\\$29,667.\n",
    "\n",
    "I will use OLS Regressor for my Test Dataset!"
   ]
  },
  {
   "cell_type": "code",
   "execution_count": 16,
   "id": "6a62bab5",
   "metadata": {},
   "outputs": [
    {
     "name": "stdout",
     "output_type": "stream",
     "text": [
      "$ 217529.43\n"
     ]
    }
   ],
   "source": [
    "y_test = pd.DataFrame(y_test)\n",
    "\n",
    "# Linear Regression Modeling\n",
    "lr = LinearRegression()\n",
    "lr.fit(X_train, y_train.tax_value)\n",
    "y_test['tax_value_pred_LR'] = lr.predict(X_test)\n",
    "rmse_test = mean_squared_error(y_test.tax_value, y_test.tax_value_pred_LR) ** (1/2)\n",
    "\n",
    "print('$', round(rmse_test, 2))\n"
   ]
  },
  {
   "cell_type": "markdown",
   "id": "160e52b6",
   "metadata": {},
   "source": [
    "## My test dataset had a RMSE of \\\\$217,529.43 which is better than my Baseline by \\\\$26,192.70"
   ]
  },
  {
   "cell_type": "markdown",
   "id": "d5f371ce",
   "metadata": {},
   "source": [
    "<hr style=\"border:2px solid blue\"> </hr>\n",
    "\n",
    "\n",
    "# Summary"
   ]
  },
  {
   "cell_type": "markdown",
   "id": "f1f4ba2d",
   "metadata": {},
   "source": [
    "My OLS Regressor Model had a Root Mean Squared Error (RMSE) of \\\\$215,650.06, beating my Baseline RMSE of \\\\$245,317.96.\n",
    "That's an improvement of $29,667.\n",
    "\n",
    "If I had more time, I would have liked to have made some loops for testing a variety of hyperparameters for each model to further improve RMSE.\n",
    "\n",
    "# Recommendations\n",
    "The data suggest Bathrooms, Bedrooms, and Squarefeet to be the most valued features. I recommend removing outliers from these columns to improve future modeling.\n",
    "\n",
    "\n",
    "# Thank You!\n",
    "\n"
   ]
  }
 ],
 "metadata": {
  "kernelspec": {
   "display_name": "Python 3",
   "language": "python",
   "name": "python3"
  },
  "language_info": {
   "codemirror_mode": {
    "name": "ipython",
    "version": 3
   },
   "file_extension": ".py",
   "mimetype": "text/x-python",
   "name": "python",
   "nbconvert_exporter": "python",
   "pygments_lexer": "ipython3",
   "version": "3.8.8"
  }
 },
 "nbformat": 4,
 "nbformat_minor": 5
}
