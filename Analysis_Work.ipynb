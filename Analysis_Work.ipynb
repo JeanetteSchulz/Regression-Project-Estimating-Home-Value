{
 "cells": [
  {
   "cell_type": "code",
   "execution_count": null,
   "id": "a8373186",
   "metadata": {},
   "outputs": [],
   "source": [
    "# Basic Libraries Needed\n",
    "import pandas as pd\n",
    "import matplotlib.pyplot as plt\n",
    "import seaborn as sns\n",
    "import numpy as np\n",
    "from env import host, user, password\n",
    "import os\n",
    "\n",
    "from sklearn.model_selection import train_test_split\n",
    "\n",
    "import wrangle\n",
    "\n",
    "# Remove the angry pink boxes\n",
    "import warnings\n",
    "warnings.filterwarnings(\"ignore\")\n"
   ]
  },
  {
   "cell_type": "markdown",
   "id": "c0874466",
   "metadata": {},
   "source": [
    "<hr style=\"border:2px solid blue\"> </hr>\n",
    "\n",
    "# Acquire"
   ]
  },
  {
   "cell_type": "markdown",
   "id": "e1b90cbd",
   "metadata": {},
   "source": [
    "For now I am only going to acquire `bedroomcnt`, `bathroomcnt`, `calculatedfinishedsquarefeet`, `taxvaluedollarcnt`, `yearbuilt`, `taxamount`, and `fips` from the zillow database for all 'Single Family Residential' properties. This should allow me to get my MVP.\n"
   ]
  },
  {
   "cell_type": "code",
   "execution_count": 1,
   "id": "b5701040",
   "metadata": {},
   "outputs": [],
   "source": [
    "def get_connection(database_name):\n",
    "    '''\n",
    "    This function takes in a string representing a database name for the Codeup mySQL server \n",
    "    and returns a string that can be used to open a connection to the server.\n",
    "    '''\n",
    "    return f'mysql+pymysql://{user}:{password}@{host}/{database_name}'\n"
   ]
  },
  {
   "cell_type": "code",
   "execution_count": 2,
   "id": "4d5342ef",
   "metadata": {},
   "outputs": [],
   "source": [
    "def get_zillow_data():\n",
    "    '''\n",
    "    This function reads the Zillow database from the Codeup mySQL server and  returns a dataframe.\n",
    "    If a local file does not exist, this function writes data to a csv file as a backup. The local file \n",
    "    ensures that data can be accessed, in the event that you cannot talk to the mySQL database. \n",
    "    '''\n",
    "    # The filename will have 2017 at the end to represent that the only data being looked at is \n",
    "    # properties from the year 2017\n",
    "    if os.path.isfile('zillow2017.csv'):\n",
    "        # If csv file exists read in data from csv file.\n",
    "        df = pd.read_csv('zillow2017.csv', index_col=0)\n",
    "        \n",
    "    else:\n",
    "        \n",
    "        # Read fresh data from database into a DataFrame\n",
    "        # property land use type id is limited to 'Single Family Residential' properties.\n",
    "        df =  pd.read_sql(\"\"\" SELECT bedroomcnt, \n",
    "                                     bathroomcnt, \n",
    "                                     calculatedfinishedsquarefeet, \n",
    "                                     taxvaluedollarcnt, \n",
    "                                     yearbuilt, \n",
    "                                     taxamount, \n",
    "                                     fips\n",
    "                              FROM properties_2017\n",
    "                              WHERE propertylandusetypeid = 261;\"\"\", \n",
    "                            get_connection('zillow')\n",
    "                        )\n",
    "        # Cache data into a csv backup\n",
    "        df.to_csv('zillow2017.csv')\n",
    "    \n",
    "    # Renaming column names to one's I like better\n",
    "    df = df.rename(columns = {'bedroomcnt':'bedrooms', \n",
    "                          'bathroomcnt':'bathrooms', \n",
    "                          'calculatedfinishedsquarefeet':'area',\n",
    "                          'taxvaluedollarcnt':'tax_value', \n",
    "                          'yearbuilt':'year_built'})   \n",
    "    return df"
   ]
  },
  {
   "cell_type": "markdown",
   "id": "f3c8acd1",
   "metadata": {},
   "source": [
    "I noticed there is an 'Inferred Family Housing' properties type. Upon inspection, I decided not to add this to my dataframe because it only contained a single row with nulss."
   ]
  },
  {
   "cell_type": "code",
   "execution_count": 3,
   "id": "0b5c1fba",
   "metadata": {},
   "outputs": [
    {
     "ename": "NameError",
     "evalue": "name 'os' is not defined",
     "output_type": "error",
     "traceback": [
      "\u001b[0;31m---------------------------------------------------------------------------\u001b[0m",
      "\u001b[0;31mNameError\u001b[0m                                 Traceback (most recent call last)",
      "\u001b[0;32m<ipython-input-3-a79390c4f312>\u001b[0m in \u001b[0;36m<module>\u001b[0;34m\u001b[0m\n\u001b[0;32m----> 1\u001b[0;31m \u001b[0mzillow\u001b[0m \u001b[0;34m=\u001b[0m \u001b[0mget_zillow_data\u001b[0m\u001b[0;34m(\u001b[0m\u001b[0;34m)\u001b[0m\u001b[0;34m\u001b[0m\u001b[0;34m\u001b[0m\u001b[0m\n\u001b[0m\u001b[1;32m      2\u001b[0m \u001b[0mzillow\u001b[0m\u001b[0;34m.\u001b[0m\u001b[0mhead\u001b[0m\u001b[0;34m(\u001b[0m\u001b[0;34m)\u001b[0m\u001b[0;34m\u001b[0m\u001b[0;34m\u001b[0m\u001b[0m\n",
      "\u001b[0;32m<ipython-input-2-2b910f3a4542>\u001b[0m in \u001b[0;36mget_zillow_data\u001b[0;34m()\u001b[0m\n\u001b[1;32m      7\u001b[0m     \u001b[0;31m# The filename will have 2017 at the end to represent that the only data being looked at is\u001b[0m\u001b[0;34m\u001b[0m\u001b[0;34m\u001b[0m\u001b[0;34m\u001b[0m\u001b[0m\n\u001b[1;32m      8\u001b[0m     \u001b[0;31m# properties from the year 2017\u001b[0m\u001b[0;34m\u001b[0m\u001b[0;34m\u001b[0m\u001b[0;34m\u001b[0m\u001b[0m\n\u001b[0;32m----> 9\u001b[0;31m     \u001b[0;32mif\u001b[0m \u001b[0mos\u001b[0m\u001b[0;34m.\u001b[0m\u001b[0mpath\u001b[0m\u001b[0;34m.\u001b[0m\u001b[0misfile\u001b[0m\u001b[0;34m(\u001b[0m\u001b[0;34m'zillow2017.csv'\u001b[0m\u001b[0;34m)\u001b[0m\u001b[0;34m:\u001b[0m\u001b[0;34m\u001b[0m\u001b[0;34m\u001b[0m\u001b[0m\n\u001b[0m\u001b[1;32m     10\u001b[0m         \u001b[0;31m# If csv file exists read in data from csv file.\u001b[0m\u001b[0;34m\u001b[0m\u001b[0;34m\u001b[0m\u001b[0;34m\u001b[0m\u001b[0m\n\u001b[1;32m     11\u001b[0m         \u001b[0mdf\u001b[0m \u001b[0;34m=\u001b[0m \u001b[0mpd\u001b[0m\u001b[0;34m.\u001b[0m\u001b[0mread_csv\u001b[0m\u001b[0;34m(\u001b[0m\u001b[0;34m'zillow2017.csv'\u001b[0m\u001b[0;34m,\u001b[0m \u001b[0mindex_col\u001b[0m\u001b[0;34m=\u001b[0m\u001b[0;36m0\u001b[0m\u001b[0;34m)\u001b[0m\u001b[0;34m\u001b[0m\u001b[0;34m\u001b[0m\u001b[0m\n",
      "\u001b[0;31mNameError\u001b[0m: name 'os' is not defined"
     ]
    }
   ],
   "source": [
    "zillow = get_zillow_data()\n",
    "zillow.head()"
   ]
  },
  {
   "cell_type": "code",
   "execution_count": null,
   "id": "2eecbcd9",
   "metadata": {},
   "outputs": [],
   "source": []
  },
  {
   "cell_type": "code",
   "execution_count": null,
   "id": "3dd4c2c0",
   "metadata": {},
   "outputs": [],
   "source": []
  },
  {
   "cell_type": "code",
   "execution_count": null,
   "id": "642a187d",
   "metadata": {},
   "outputs": [],
   "source": []
  },
  {
   "cell_type": "code",
   "execution_count": null,
   "id": "9e21f829",
   "metadata": {},
   "outputs": [],
   "source": [
    "Plan -> Acquire -> Prepare -> Explore -> Model & Evaluate -> Deliver\n"
   ]
  }
 ],
 "metadata": {
  "kernelspec": {
   "display_name": "Python 3",
   "language": "python",
   "name": "python3"
  },
  "language_info": {
   "codemirror_mode": {
    "name": "ipython",
    "version": 3
   },
   "file_extension": ".py",
   "mimetype": "text/x-python",
   "name": "python",
   "nbconvert_exporter": "python",
   "pygments_lexer": "ipython3",
   "version": "3.8.8"
  }
 },
 "nbformat": 4,
 "nbformat_minor": 5
}
