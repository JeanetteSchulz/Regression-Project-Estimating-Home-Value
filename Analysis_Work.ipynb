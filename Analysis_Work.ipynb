{
 "cells": [
  {
   "cell_type": "markdown",
   "id": "6374aec6",
   "metadata": {},
   "source": [
    "# Analysis Work\n",
    "I will be doing all of my work for this zillow project in this notebook.\n",
    "\n",
    "<hr style=\"border:2px solid blue\"> </hr>\n",
    "\n",
    "# Acquire"
   ]
  },
  {
   "cell_type": "code",
   "execution_count": 1,
   "id": "eab4d182",
   "metadata": {},
   "outputs": [],
   "source": [
    "# Data Science Libraries\n",
    "import pandas as pd\n",
    "import matplotlib.pyplot as plt\n",
    "import seaborn as sns\n",
    "import numpy as np\n",
    "from env import host, user, password\n",
    "import os\n",
    "\n",
    "# My Zillow Functions\n",
    "import wrangle\n",
    "\n",
    "# Block Warning Boxes\n",
    "import warnings\n",
    "warnings.filterwarnings(\"ignore\")\n"
   ]
  },
  {
   "cell_type": "markdown",
   "id": "920f77de",
   "metadata": {},
   "source": [
    "For now I am only going to acquire `bedroomcnt`, `bathroomcnt`, `calculatedfinishedsquarefeet`, `taxvaluedollarcnt`, `yearbuilt`, `taxamount`, and `fips` from the zillow database for all 'Single Family Residential' properties. This should allow me to get my MVP.\n"
   ]
  },
  {
   "cell_type": "code",
   "execution_count": 2,
   "id": "65d37873",
   "metadata": {},
   "outputs": [],
   "source": [
    "def get_connection(database_name):\n",
    "    '''\n",
    "    This function takes in a string representing a database name for the Codeup mySQL server \n",
    "    and returns a string that can be used to open a connection to the server.\n",
    "    '''\n",
    "    return f'mysql+pymysql://{user}:{password}@{host}/{database_name}'\n"
   ]
  },
  {
   "cell_type": "code",
   "execution_count": 3,
   "id": "c38d9a7a",
   "metadata": {},
   "outputs": [],
   "source": [
    "def get_zillow_data():\n",
    "    '''\n",
    "    This function reads the Zillow database from the Codeup mySQL server and  returns a dataframe.\n",
    "    If a local file does not exist, this function writes data to a csv file as a backup. The local file \n",
    "    ensures that data can be accessed, in the event that you cannot talk to the mySQL database. \n",
    "    '''\n",
    "    # The filename will have 2017 at the end to represent that the only data being looked at is \n",
    "    # properties from the year 2017\n",
    "    if os.path.isfile('zillow2017.csv'):\n",
    "        # If csv file exists read in data from csv file.\n",
    "        df = pd.read_csv('zillow2017.csv', index_col=0)\n",
    "        \n",
    "    else:\n",
    "        \n",
    "        # Read fresh data from database into a DataFrame\n",
    "        # property land use type id is limited to 'Single Family Residential' properties.\n",
    "        df =  pd.read_sql(\"\"\" SELECT bedroomcnt, \n",
    "                                     bathroomcnt, \n",
    "                                     calculatedfinishedsquarefeet, \n",
    "                                     yearbuilt, \n",
    "                                     regionidzip, \n",
    "                                     fips,\n",
    "                                     taxvaluedollarcnt\n",
    "                              FROM properties_2017\n",
    "                              JOIN predictions_2017 USING (parcelid)\n",
    "                              WHERE propertylandusetypeid = 261;\"\"\", \n",
    "                            get_connection('zillow')\n",
    "                        )\n",
    "        # Cache data into a csv backup\n",
    "        df.to_csv('zillow2017.csv')\n",
    "    \n",
    "    # Renaming column names to one's I like better\n",
    "    df = df.rename(columns = {'bedroomcnt':'bedrooms', \n",
    "                          'bathroomcnt':'bathrooms', \n",
    "                          'calculatedfinishedsquarefeet':'squarefeet',\n",
    "                          'taxvaluedollarcnt':'tax_value', \n",
    "                          'yearbuilt':'year_built'})   \n",
    "    return df"
   ]
  },
  {
   "cell_type": "markdown",
   "id": "bc47839c",
   "metadata": {},
   "source": [
    "I noticed there is an 'Inferred Family Housing' properties type. Upon inspection, I decided not to add this to my dataframe because it only contained a single row with nulss."
   ]
  },
  {
   "cell_type": "code",
   "execution_count": 4,
   "id": "9fae51a1",
   "metadata": {},
   "outputs": [
    {
     "data": {
      "text/html": [
       "<div>\n",
       "<style scoped>\n",
       "    .dataframe tbody tr th:only-of-type {\n",
       "        vertical-align: middle;\n",
       "    }\n",
       "\n",
       "    .dataframe tbody tr th {\n",
       "        vertical-align: top;\n",
       "    }\n",
       "\n",
       "    .dataframe thead th {\n",
       "        text-align: right;\n",
       "    }\n",
       "</style>\n",
       "<table border=\"1\" class=\"dataframe\">\n",
       "  <thead>\n",
       "    <tr style=\"text-align: right;\">\n",
       "      <th></th>\n",
       "      <th>bedrooms</th>\n",
       "      <th>bathrooms</th>\n",
       "      <th>squarefeet</th>\n",
       "      <th>year_built</th>\n",
       "      <th>regionidzip</th>\n",
       "      <th>fips</th>\n",
       "      <th>tax_value</th>\n",
       "    </tr>\n",
       "  </thead>\n",
       "  <tbody>\n",
       "    <tr>\n",
       "      <th>0</th>\n",
       "      <td>4.0</td>\n",
       "      <td>3.5</td>\n",
       "      <td>3100.0</td>\n",
       "      <td>1998.0</td>\n",
       "      <td>96978.0</td>\n",
       "      <td>6059.0</td>\n",
       "      <td>1023282.0</td>\n",
       "    </tr>\n",
       "    <tr>\n",
       "      <th>1</th>\n",
       "      <td>2.0</td>\n",
       "      <td>1.0</td>\n",
       "      <td>1465.0</td>\n",
       "      <td>1967.0</td>\n",
       "      <td>97099.0</td>\n",
       "      <td>6111.0</td>\n",
       "      <td>464000.0</td>\n",
       "    </tr>\n",
       "    <tr>\n",
       "      <th>2</th>\n",
       "      <td>3.0</td>\n",
       "      <td>2.0</td>\n",
       "      <td>1243.0</td>\n",
       "      <td>1962.0</td>\n",
       "      <td>97078.0</td>\n",
       "      <td>6059.0</td>\n",
       "      <td>564778.0</td>\n",
       "    </tr>\n",
       "    <tr>\n",
       "      <th>3</th>\n",
       "      <td>4.0</td>\n",
       "      <td>3.0</td>\n",
       "      <td>2376.0</td>\n",
       "      <td>1970.0</td>\n",
       "      <td>96330.0</td>\n",
       "      <td>6037.0</td>\n",
       "      <td>145143.0</td>\n",
       "    </tr>\n",
       "    <tr>\n",
       "      <th>4</th>\n",
       "      <td>4.0</td>\n",
       "      <td>3.0</td>\n",
       "      <td>2962.0</td>\n",
       "      <td>1950.0</td>\n",
       "      <td>96293.0</td>\n",
       "      <td>6037.0</td>\n",
       "      <td>773303.0</td>\n",
       "    </tr>\n",
       "  </tbody>\n",
       "</table>\n",
       "</div>"
      ],
      "text/plain": [
       "   bedrooms  bathrooms  squarefeet  year_built  regionidzip    fips  tax_value\n",
       "0       4.0        3.5      3100.0      1998.0      96978.0  6059.0  1023282.0\n",
       "1       2.0        1.0      1465.0      1967.0      97099.0  6111.0   464000.0\n",
       "2       3.0        2.0      1243.0      1962.0      97078.0  6059.0   564778.0\n",
       "3       4.0        3.0      2376.0      1970.0      96330.0  6037.0   145143.0\n",
       "4       4.0        3.0      2962.0      1950.0      96293.0  6037.0   773303.0"
      ]
     },
     "execution_count": 4,
     "metadata": {},
     "output_type": "execute_result"
    }
   ],
   "source": [
    "zillow = get_zillow_data()\n",
    "zillow.head()"
   ]
  },
  {
   "cell_type": "code",
   "execution_count": 5,
   "id": "b30710be",
   "metadata": {},
   "outputs": [
    {
     "data": {
      "text/plain": [
       "(52442, 7)"
      ]
     },
     "execution_count": 5,
     "metadata": {},
     "output_type": "execute_result"
    }
   ],
   "source": [
    "zillow.shape"
   ]
  },
  {
   "cell_type": "code",
   "execution_count": 6,
   "id": "c1dc2375",
   "metadata": {},
   "outputs": [
    {
     "data": {
      "text/html": [
       "<div>\n",
       "<style scoped>\n",
       "    .dataframe tbody tr th:only-of-type {\n",
       "        vertical-align: middle;\n",
       "    }\n",
       "\n",
       "    .dataframe tbody tr th {\n",
       "        vertical-align: top;\n",
       "    }\n",
       "\n",
       "    .dataframe thead th {\n",
       "        text-align: right;\n",
       "    }\n",
       "</style>\n",
       "<table border=\"1\" class=\"dataframe\">\n",
       "  <thead>\n",
       "    <tr style=\"text-align: right;\">\n",
       "      <th></th>\n",
       "      <th>bedrooms</th>\n",
       "      <th>bathrooms</th>\n",
       "      <th>squarefeet</th>\n",
       "      <th>year_built</th>\n",
       "      <th>regionidzip</th>\n",
       "      <th>fips</th>\n",
       "      <th>tax_value</th>\n",
       "    </tr>\n",
       "  </thead>\n",
       "  <tbody>\n",
       "    <tr>\n",
       "      <th>count</th>\n",
       "      <td>52442.000000</td>\n",
       "      <td>52442.000000</td>\n",
       "      <td>52360.000000</td>\n",
       "      <td>52326.000000</td>\n",
       "      <td>52416.000000</td>\n",
       "      <td>52442.000000</td>\n",
       "      <td>5.244100e+04</td>\n",
       "    </tr>\n",
       "    <tr>\n",
       "      <th>mean</th>\n",
       "      <td>3.300675</td>\n",
       "      <td>2.299397</td>\n",
       "      <td>1922.874083</td>\n",
       "      <td>1963.393820</td>\n",
       "      <td>96635.843559</td>\n",
       "      <td>6049.131917</td>\n",
       "      <td>5.296830e+05</td>\n",
       "    </tr>\n",
       "    <tr>\n",
       "      <th>std</th>\n",
       "      <td>0.949086</td>\n",
       "      <td>1.022764</td>\n",
       "      <td>1004.363491</td>\n",
       "      <td>23.133355</td>\n",
       "      <td>4605.063649</td>\n",
       "      <td>21.028933</td>\n",
       "      <td>7.518883e+05</td>\n",
       "    </tr>\n",
       "    <tr>\n",
       "      <th>min</th>\n",
       "      <td>0.000000</td>\n",
       "      <td>0.000000</td>\n",
       "      <td>128.000000</td>\n",
       "      <td>1878.000000</td>\n",
       "      <td>95982.000000</td>\n",
       "      <td>6037.000000</td>\n",
       "      <td>1.000000e+03</td>\n",
       "    </tr>\n",
       "    <tr>\n",
       "      <th>25%</th>\n",
       "      <td>3.000000</td>\n",
       "      <td>2.000000</td>\n",
       "      <td>1268.000000</td>\n",
       "      <td>1950.000000</td>\n",
       "      <td>96206.000000</td>\n",
       "      <td>6037.000000</td>\n",
       "      <td>1.937500e+05</td>\n",
       "    </tr>\n",
       "    <tr>\n",
       "      <th>50%</th>\n",
       "      <td>3.000000</td>\n",
       "      <td>2.000000</td>\n",
       "      <td>1659.000000</td>\n",
       "      <td>1961.000000</td>\n",
       "      <td>96412.000000</td>\n",
       "      <td>6037.000000</td>\n",
       "      <td>3.736120e+05</td>\n",
       "    </tr>\n",
       "    <tr>\n",
       "      <th>75%</th>\n",
       "      <td>4.000000</td>\n",
       "      <td>3.000000</td>\n",
       "      <td>2306.000000</td>\n",
       "      <td>1979.000000</td>\n",
       "      <td>96995.000000</td>\n",
       "      <td>6059.000000</td>\n",
       "      <td>6.193010e+05</td>\n",
       "    </tr>\n",
       "    <tr>\n",
       "      <th>max</th>\n",
       "      <td>14.000000</td>\n",
       "      <td>18.000000</td>\n",
       "      <td>21929.000000</td>\n",
       "      <td>2016.000000</td>\n",
       "      <td>399675.000000</td>\n",
       "      <td>6111.000000</td>\n",
       "      <td>4.906124e+07</td>\n",
       "    </tr>\n",
       "  </tbody>\n",
       "</table>\n",
       "</div>"
      ],
      "text/plain": [
       "           bedrooms     bathrooms    squarefeet    year_built    regionidzip  \\\n",
       "count  52442.000000  52442.000000  52360.000000  52326.000000   52416.000000   \n",
       "mean       3.300675      2.299397   1922.874083   1963.393820   96635.843559   \n",
       "std        0.949086      1.022764   1004.363491     23.133355    4605.063649   \n",
       "min        0.000000      0.000000    128.000000   1878.000000   95982.000000   \n",
       "25%        3.000000      2.000000   1268.000000   1950.000000   96206.000000   \n",
       "50%        3.000000      2.000000   1659.000000   1961.000000   96412.000000   \n",
       "75%        4.000000      3.000000   2306.000000   1979.000000   96995.000000   \n",
       "max       14.000000     18.000000  21929.000000   2016.000000  399675.000000   \n",
       "\n",
       "               fips     tax_value  \n",
       "count  52442.000000  5.244100e+04  \n",
       "mean    6049.131917  5.296830e+05  \n",
       "std       21.028933  7.518883e+05  \n",
       "min     6037.000000  1.000000e+03  \n",
       "25%     6037.000000  1.937500e+05  \n",
       "50%     6037.000000  3.736120e+05  \n",
       "75%     6059.000000  6.193010e+05  \n",
       "max     6111.000000  4.906124e+07  "
      ]
     },
     "execution_count": 6,
     "metadata": {},
     "output_type": "execute_result"
    }
   ],
   "source": [
    "zillow.describe()"
   ]
  },
  {
   "cell_type": "markdown",
   "id": "8a14bfec",
   "metadata": {},
   "source": [
    "Looks like the average bedroom count is 3 and average bathroom count is 2. I'll keep this in mind when I get to explore and modeling."
   ]
  },
  {
   "cell_type": "markdown",
   "id": "c759082f",
   "metadata": {},
   "source": [
    "<hr style=\"border:2px solid blue\"> </hr>\n",
    "\n",
    "# Prepare"
   ]
  },
  {
   "cell_type": "code",
   "execution_count": 7,
   "id": "d79f75da",
   "metadata": {},
   "outputs": [
    {
     "name": "stdout",
     "output_type": "stream",
     "text": [
      "<class 'pandas.core.frame.DataFrame'>\n",
      "Int64Index: 52442 entries, 0 to 52441\n",
      "Data columns (total 7 columns):\n",
      " #   Column       Non-Null Count  Dtype  \n",
      "---  ------       --------------  -----  \n",
      " 0   bedrooms     52442 non-null  float64\n",
      " 1   bathrooms    52442 non-null  float64\n",
      " 2   squarefeet   52360 non-null  float64\n",
      " 3   year_built   52326 non-null  float64\n",
      " 4   regionidzip  52416 non-null  float64\n",
      " 5   fips         52442 non-null  float64\n",
      " 6   tax_value    52441 non-null  float64\n",
      "dtypes: float64(7)\n",
      "memory usage: 3.2 MB\n"
     ]
    }
   ],
   "source": [
    "# This dataset is a bit larger, so I will need to set verbose and null_counts to true\n",
    "zillow.info(verbose=True, null_counts=True)"
   ]
  },
  {
   "cell_type": "code",
   "execution_count": 8,
   "id": "183b9a85",
   "metadata": {},
   "outputs": [
    {
     "data": {
      "text/plain": [
       "bedrooms         0\n",
       "bathrooms        0\n",
       "squarefeet      82\n",
       "year_built     116\n",
       "regionidzip     26\n",
       "fips             0\n",
       "tax_value        1\n",
       "dtype: int64"
      ]
     },
     "execution_count": 8,
     "metadata": {},
     "output_type": "execute_result"
    }
   ],
   "source": [
    "# I can see I have some null values, let's see how many in each column:\n",
    "zillow.isnull().sum()"
   ]
  },
  {
   "cell_type": "code",
   "execution_count": 9,
   "id": "38301fae",
   "metadata": {},
   "outputs": [
    {
     "data": {
      "text/plain": [
       "0.004290454216086343"
      ]
     },
     "execution_count": 9,
     "metadata": {},
     "output_type": "execute_result"
    }
   ],
   "source": [
    "# What percentage of my data is this?\n",
    "zillow.isnull().sum().sum() / zillow.shape[0]"
   ]
  },
  {
   "cell_type": "markdown",
   "id": "b2aad389",
   "metadata": {},
   "source": [
    "- If I were to remove all rows with nulls, this would remove less than 1% of my data. \n",
    "- I think it would be safe to drop all nulls and not have it affect my future explore and modeling\n"
   ]
  },
  {
   "cell_type": "code",
   "execution_count": 10,
   "id": "10eee164",
   "metadata": {},
   "outputs": [
    {
     "name": "stdout",
     "output_type": "stream",
     "text": [
      "141 rows dropped\n"
     ]
    }
   ],
   "source": [
    "# Dropping all rows with null values\n",
    "before = zillow.shape[0]\n",
    "zillow = zillow.dropna()\n",
    "print ((before - zillow.shape[0]), 'rows dropped')"
   ]
  },
  {
   "cell_type": "code",
   "execution_count": 11,
   "id": "2ddf154b",
   "metadata": {},
   "outputs": [
    {
     "name": "stdout",
     "output_type": "stream",
     "text": [
      "<class 'pandas.core.frame.DataFrame'>\n",
      "Int64Index: 52301 entries, 0 to 52441\n",
      "Data columns (total 7 columns):\n",
      " #   Column       Non-Null Count  Dtype  \n",
      "---  ------       --------------  -----  \n",
      " 0   bedrooms     52301 non-null  float64\n",
      " 1   bathrooms    52301 non-null  float64\n",
      " 2   squarefeet   52301 non-null  float64\n",
      " 3   year_built   52301 non-null  float64\n",
      " 4   regionidzip  52301 non-null  float64\n",
      " 5   fips         52301 non-null  float64\n",
      " 6   tax_value    52301 non-null  float64\n",
      "dtypes: float64(7)\n",
      "memory usage: 3.2 MB\n"
     ]
    }
   ],
   "source": [
    "# Making sure my non-null counts look good\n",
    "zillow.info(verbose=True, null_counts=True)"
   ]
  },
  {
   "cell_type": "markdown",
   "id": "4dce3f5e",
   "metadata": {},
   "source": [
    "#### Notes:\n",
    "Now to take a look at Dtypes for each row.\n",
    "\n",
    "- I believe Bedrooms are supposed to be whole numbers, so I'll change this row to integers.\n",
    "- Bathrooms are known to have wierd numbers like 2.5 Bath, so float makes sense here.  \n",
    "- squarefeet can stay a float \n",
    "- I should probably change yearbuilt to an integer\n",
    "- regionidzip is zipcodes, which we know are integers.  \n",
    "  \n",
    "- Also, I googled fips because I didn't know what it was:  \n",
    "    - Federal Information Processing System (FIPS) Codes for States and Counties. \n",
    "    - FIPS codes are numbers which uniquely identify geographic areas.  \n",
    "  \n",
    "- It looks like fips are whole numbers, so I'll make that an integer too!   \n",
    "- tax_value is money, so a float works just fine here\n"
   ]
  },
  {
   "cell_type": "code",
   "execution_count": 12,
   "id": "713df851",
   "metadata": {},
   "outputs": [
    {
     "data": {
      "text/plain": [
       "Series([], Name: bedrooms, dtype: float64)"
      ]
     },
     "execution_count": 12,
     "metadata": {},
     "output_type": "execute_result"
    }
   ],
   "source": [
    "# Just to be sure, I'm going to check and see if any of the bedroom counts utilize this decimal\n",
    "zillow.bedrooms[(zillow.bedrooms % 1) != 0]"
   ]
  },
  {
   "cell_type": "markdown",
   "id": "bc9c5686",
   "metadata": {},
   "source": [
    "Nope! Looks like I'm okay to change bedrooms into integers."
   ]
  },
  {
   "cell_type": "code",
   "execution_count": 13,
   "id": "3fb3aba2",
   "metadata": {},
   "outputs": [
    {
     "name": "stdout",
     "output_type": "stream",
     "text": [
      "<class 'pandas.core.frame.DataFrame'>\n",
      "Int64Index: 52301 entries, 0 to 52441\n",
      "Data columns (total 7 columns):\n",
      " #   Column       Non-Null Count  Dtype  \n",
      "---  ------       --------------  -----  \n",
      " 0   bedrooms     52301 non-null  int64  \n",
      " 1   bathrooms    52301 non-null  float64\n",
      " 2   squarefeet   52301 non-null  float64\n",
      " 3   year_built   52301 non-null  int64  \n",
      " 4   regionidzip  52301 non-null  int64  \n",
      " 5   fips         52301 non-null  int64  \n",
      " 6   tax_value    52301 non-null  float64\n",
      "dtypes: float64(3), int64(4)\n",
      "memory usage: 3.2 MB\n"
     ]
    }
   ],
   "source": [
    "zillow[\"regionidzip\"] = zillow.regionidzip.astype(int)\n",
    "zillow[\"bedrooms\"] = zillow.bedrooms.astype(int)\n",
    "zillow[\"year_built\"] = zillow.year_built.astype(int)\n",
    "zillow[\"fips\"] = zillow.fips.astype(int)\n",
    "zillow.info()"
   ]
  },
  {
   "cell_type": "code",
   "execution_count": 14,
   "id": "24fc3708",
   "metadata": {},
   "outputs": [
    {
     "data": {
      "text/html": [
       "<div>\n",
       "<style scoped>\n",
       "    .dataframe tbody tr th:only-of-type {\n",
       "        vertical-align: middle;\n",
       "    }\n",
       "\n",
       "    .dataframe tbody tr th {\n",
       "        vertical-align: top;\n",
       "    }\n",
       "\n",
       "    .dataframe thead th {\n",
       "        text-align: right;\n",
       "    }\n",
       "</style>\n",
       "<table border=\"1\" class=\"dataframe\">\n",
       "  <thead>\n",
       "    <tr style=\"text-align: right;\">\n",
       "      <th></th>\n",
       "      <th>bedrooms</th>\n",
       "      <th>bathrooms</th>\n",
       "      <th>squarefeet</th>\n",
       "      <th>year_built</th>\n",
       "      <th>regionidzip</th>\n",
       "      <th>fips</th>\n",
       "      <th>tax_value</th>\n",
       "    </tr>\n",
       "  </thead>\n",
       "  <tbody>\n",
       "    <tr>\n",
       "      <th>590</th>\n",
       "      <td>0</td>\n",
       "      <td>5.0</td>\n",
       "      <td>5782.0</td>\n",
       "      <td>2006</td>\n",
       "      <td>96120</td>\n",
       "      <td>6037</td>\n",
       "      <td>4626995.0</td>\n",
       "    </tr>\n",
       "    <tr>\n",
       "      <th>2694</th>\n",
       "      <td>0</td>\n",
       "      <td>0.0</td>\n",
       "      <td>1208.0</td>\n",
       "      <td>1990</td>\n",
       "      <td>95984</td>\n",
       "      <td>6037</td>\n",
       "      <td>185161.0</td>\n",
       "    </tr>\n",
       "    <tr>\n",
       "      <th>2899</th>\n",
       "      <td>0</td>\n",
       "      <td>0.0</td>\n",
       "      <td>280.0</td>\n",
       "      <td>1953</td>\n",
       "      <td>96267</td>\n",
       "      <td>6037</td>\n",
       "      <td>963472.0</td>\n",
       "    </tr>\n",
       "    <tr>\n",
       "      <th>3261</th>\n",
       "      <td>0</td>\n",
       "      <td>1.0</td>\n",
       "      <td>288.0</td>\n",
       "      <td>1922</td>\n",
       "      <td>96023</td>\n",
       "      <td>6037</td>\n",
       "      <td>67521.0</td>\n",
       "    </tr>\n",
       "    <tr>\n",
       "      <th>4675</th>\n",
       "      <td>0</td>\n",
       "      <td>1.0</td>\n",
       "      <td>480.0</td>\n",
       "      <td>1948</td>\n",
       "      <td>96217</td>\n",
       "      <td>6037</td>\n",
       "      <td>227272.0</td>\n",
       "    </tr>\n",
       "    <tr>\n",
       "      <th>...</th>\n",
       "      <td>...</td>\n",
       "      <td>...</td>\n",
       "      <td>...</td>\n",
       "      <td>...</td>\n",
       "      <td>...</td>\n",
       "      <td>...</td>\n",
       "      <td>...</td>\n",
       "    </tr>\n",
       "    <tr>\n",
       "      <th>51299</th>\n",
       "      <td>0</td>\n",
       "      <td>0.0</td>\n",
       "      <td>984.0</td>\n",
       "      <td>1927</td>\n",
       "      <td>95982</td>\n",
       "      <td>6037</td>\n",
       "      <td>183027.0</td>\n",
       "    </tr>\n",
       "    <tr>\n",
       "      <th>51811</th>\n",
       "      <td>0</td>\n",
       "      <td>1.0</td>\n",
       "      <td>1150.0</td>\n",
       "      <td>1930</td>\n",
       "      <td>95995</td>\n",
       "      <td>6037</td>\n",
       "      <td>158000.0</td>\n",
       "    </tr>\n",
       "    <tr>\n",
       "      <th>52163</th>\n",
       "      <td>0</td>\n",
       "      <td>0.0</td>\n",
       "      <td>2307.0</td>\n",
       "      <td>1948</td>\n",
       "      <td>96100</td>\n",
       "      <td>6037</td>\n",
       "      <td>499000.0</td>\n",
       "    </tr>\n",
       "    <tr>\n",
       "      <th>52175</th>\n",
       "      <td>0</td>\n",
       "      <td>1.0</td>\n",
       "      <td>440.0</td>\n",
       "      <td>1947</td>\n",
       "      <td>96027</td>\n",
       "      <td>6037</td>\n",
       "      <td>1374602.0</td>\n",
       "    </tr>\n",
       "    <tr>\n",
       "      <th>52388</th>\n",
       "      <td>0</td>\n",
       "      <td>1.0</td>\n",
       "      <td>1020.0</td>\n",
       "      <td>1930</td>\n",
       "      <td>95995</td>\n",
       "      <td>6037</td>\n",
       "      <td>104000.0</td>\n",
       "    </tr>\n",
       "  </tbody>\n",
       "</table>\n",
       "<p>73 rows × 7 columns</p>\n",
       "</div>"
      ],
      "text/plain": [
       "       bedrooms  bathrooms  squarefeet  year_built  regionidzip  fips  \\\n",
       "590           0        5.0      5782.0        2006        96120  6037   \n",
       "2694          0        0.0      1208.0        1990        95984  6037   \n",
       "2899          0        0.0       280.0        1953        96267  6037   \n",
       "3261          0        1.0       288.0        1922        96023  6037   \n",
       "4675          0        1.0       480.0        1948        96217  6037   \n",
       "...         ...        ...         ...         ...          ...   ...   \n",
       "51299         0        0.0       984.0        1927        95982  6037   \n",
       "51811         0        1.0      1150.0        1930        95995  6037   \n",
       "52163         0        0.0      2307.0        1948        96100  6037   \n",
       "52175         0        1.0       440.0        1947        96027  6037   \n",
       "52388         0        1.0      1020.0        1930        95995  6037   \n",
       "\n",
       "       tax_value  \n",
       "590    4626995.0  \n",
       "2694    185161.0  \n",
       "2899    963472.0  \n",
       "3261     67521.0  \n",
       "4675    227272.0  \n",
       "...          ...  \n",
       "51299   183027.0  \n",
       "51811   158000.0  \n",
       "52163   499000.0  \n",
       "52175  1374602.0  \n",
       "52388   104000.0  \n",
       "\n",
       "[73 rows x 7 columns]"
      ]
     },
     "execution_count": 14,
     "metadata": {},
     "output_type": "execute_result"
    }
   ],
   "source": [
    "# I noticed some rows with zero bedrooms. Are there some nulls in my data disguised as zeros?\n",
    "zillow[(zillow.bathrooms == 0) | (zillow.bedrooms == 0) | (zillow.squarefeet == 0)]"
   ]
  },
  {
   "cell_type": "markdown",
   "id": "48baeb4e",
   "metadata": {},
   "source": [
    "#### That's another 73 rows of data with null values. \n",
    "Could these zeros represent a vacant lot that hasn't been built yet? It seems that there is a separate category for this in the database called \"Vacant Land - General\", so probably not.\n",
    "\n",
    "- ( 73 + 141 )/52442 = 0.408%\n",
    "- that's still less than 1% of our original data.\n",
    "- If I drop these 73 rows with zeros plus the 141 rows with nulls, I will still have lost less than 1% of my data which means it shouldn't effect my exploration and modeling. "
   ]
  },
  {
   "cell_type": "code",
   "execution_count": 15,
   "id": "ee6a1ff0",
   "metadata": {},
   "outputs": [
    {
     "name": "stdout",
     "output_type": "stream",
     "text": [
      "73 rows dropped\n"
     ]
    }
   ],
   "source": [
    "before = zillow.shape[0]\n",
    "zillow = zillow[(zillow.bathrooms != 0) & (zillow.bedrooms != 0) & (zillow.squarefeet != 0)]\n",
    "print((before - zillow.shape[0]),\"rows dropped\" )"
   ]
  },
  {
   "cell_type": "code",
   "execution_count": 16,
   "id": "f9a64eb8",
   "metadata": {},
   "outputs": [
    {
     "data": {
      "image/png": "[encoded data removed]",
      "text/plain": [
       "<Figure size 432x288 with 1 Axes>"
      ]
     },
     "metadata": {
      "needs_background": "light"
     },
     "output_type": "display_data"
    },
    {
     "data": {
      "image/png": "[encoded data removed]",
      "text/plain": [
       "<Figure size 432x288 with 1 Axes>"
      ]
     },
     "metadata": {
      "needs_background": "light"
     },
     "output_type": "display_data"
    },
    {
     "data": {
      "image/png": "[encoded data removed]",
      "text/plain": [
       "<Figure size 432x288 with 1 Axes>"
      ]
     },
     "metadata": {
      "needs_background": "light"
     },
     "output_type": "display_data"
    },
    {
     "data": {
      "image/png": "[encoded data removed]",
      "text/plain": [
       "<Figure size 432x288 with 1 Axes>"
      ]
     },
     "metadata": {
      "needs_background": "light"
     },
     "output_type": "display_data"
    },
    {
     "data": {
      "image/png": "[encoded data removed]",
      "text/plain": [
       "<Figure size 432x288 with 1 Axes>"
      ]
     },
     "metadata": {
      "needs_background": "light"
     },
     "output_type": "display_data"
    },
    {
     "data": {
      "image/png": "[encoded data removed]",
      "text/plain": [
       "<Figure size 432x288 with 1 Axes>"
      ]
     },
     "metadata": {
      "needs_background": "light"
     },
     "output_type": "display_data"
    },
    {
     "data": {
      "image/png": "[encoded data removed]",
      "text/plain": [
       "<Figure size 432x288 with 1 Axes>"
      ]
     },
     "metadata": {
      "needs_background": "light"
     },
     "output_type": "display_data"
    }
   ],
   "source": [
    "# Next is to look for outliers. I'll start this task by first taking a visual look at my columns. \n",
    "\n",
    "columns = zillow.columns\n",
    "\n",
    "# Create boxplots for each column\n",
    "for x in columns:\n",
    "    sns.boxplot(data= zillow, y = x)\n",
    "    plt.title('')\n",
    "    plt.show()"
   ]
  },
  {
   "cell_type": "markdown",
   "id": "005dbcd7",
   "metadata": {},
   "source": [
    "- bedrooms: I don't really want a Kim Kardashian house with 14 bedrooms for my model. I believe these houses might be outliers for my Single Family Residential properties. \n",
    "- bathrooms: The same can be said for bathrooms.\n",
    "- squarefeet: I believe taking care of squarefeet might resolve bedrooms and bathrooms\n",
    "- yearbuilt: I don't see anything worrisome here.\n",
    "- regionidzip: I'll have to investigate these outliers before removing\n",
    "- fips: I'll have to investigate these outliers before removing\n",
    "- tax_value: I'll definitely scale my target to ensure the best model down the line"
   ]
  },
  {
   "cell_type": "code",
   "execution_count": 17,
   "id": "4d2c6b69",
   "metadata": {},
   "outputs": [],
   "source": [
    "def remove_outliers(df, k, col_list):\n",
    "    ''' \n",
    "    This dataframe takes in a dataframe, a define k, and the list of columns to be checked for outliers.\n",
    "    The outliers are removed based on statistical upper and lower bounds, and a dataframe of \n",
    "    remaining rows is returned.\n",
    "    '''\n",
    "\n",
    "    for col in col_list:\n",
    "\n",
    "        q1, q3 = df[col].quantile([.25, .75])  # get quartiles\n",
    "        \n",
    "        iqr = q3 - q1   # calculate interquartile range\n",
    "        \n",
    "        upper_bound = q3 + k * iqr   # get upper bound\n",
    "        lower_bound = q1 - k * iqr   # get lower bound\n",
    "\n",
    "        # Return dataframe without outliers\n",
    "        df = df[(df[col] > lower_bound) & (df[col] < upper_bound)]\n",
    "        \n",
    "    return df"
   ]
  },
  {
   "cell_type": "code",
   "execution_count": 24,
   "id": "9c28a625",
   "metadata": {},
   "outputs": [
    {
     "name": "stdout",
     "output_type": "stream",
     "text": [
      "6639 rows dropped\n"
     ]
    }
   ],
   "source": [
    "before = zillow.shape[0]\n",
    "zillow = remove_outliers(zillow, 1.5, ['bedrooms', \n",
    "                                      'bathrooms', \n",
    "                                      'squarefeet', \n",
    "                                      #'year_built', \n",
    "                                      #'regionidzip',\n",
    "                                      #'fips', \n",
    "                                      'tax_value'])\n",
    "\n",
    "print((before - zillow.shape[0]), 'rows dropped')"
   ]
  },
  {
   "cell_type": "markdown",
   "id": "ba666c5b",
   "metadata": {},
   "source": [
    "- (6639 + 141 + 73)/52442 = 13.08%\n",
    "- After removing nulls, zeros, and outliers I have lost approximately 13% of my data. This should still be a low enough number not to affect my exploration and models "
   ]
  },
  {
   "cell_type": "code",
   "execution_count": 25,
   "id": "10fc9a30",
   "metadata": {},
   "outputs": [
    {
     "data": {
      "image/png": "[encoded data removed]",
      "text/plain": [
       "<Figure size 432x288 with 1 Axes>"
      ]
     },
     "metadata": {
      "needs_background": "light"
     },
     "output_type": "display_data"
    },
    {
     "data": {
      "image/png": "[encoded data removed]",
      "text/plain": [
       "<Figure size 432x288 with 1 Axes>"
      ]
     },
     "metadata": {
      "needs_background": "light"
     },
     "output_type": "display_data"
    },
    {
     "data": {
      "image/png": "[encoded data removed]",
      "text/plain": [
       "<Figure size 432x288 with 1 Axes>"
      ]
     },
     "metadata": {
      "needs_background": "light"
     },
     "output_type": "display_data"
    },
    {
     "data": {
      "image/png": "[encoded data removed]",
      "text/plain": [
       "<Figure size 432x288 with 1 Axes>"
      ]
     },
     "metadata": {
      "needs_background": "light"
     },
     "output_type": "display_data"
    },
    {
     "data": {
      "image/png": "[encoded data removed]",
      "text/plain": [
       "<Figure size 432x288 with 1 Axes>"
      ]
     },
     "metadata": {
      "needs_background": "light"
     },
     "output_type": "display_data"
    },
    {
     "data": {
      "image/png": "[encoded data removed]",
      "text/plain": [
       "<Figure size 432x288 with 1 Axes>"
      ]
     },
     "metadata": {
      "needs_background": "light"
     },
     "output_type": "display_data"
    },
    {
     "data": {
      "image/png": "[encoded data removed]",
      "text/plain": [
       "<Figure size 432x288 with 1 Axes>"
      ]
     },
     "metadata": {
      "needs_background": "light"
     },
     "output_type": "display_data"
    }
   ],
   "source": [
    "# Let's take another look at our columns after removing the more extreme outliers\n",
    "for x in zillow.columns:\n",
    "    sns.boxplot(data= larry, y = x)\n",
    "    plt.title('')\n",
    "    plt.show()"
   ]
  },
  {
   "cell_type": "markdown",
   "id": "90382043",
   "metadata": {},
   "source": [
    "Now that my data is starting to look a lot cleaner, I'm gonna scale it and then I'll be ready to explore!"
   ]
  },
  {
   "cell_type": "code",
   "execution_count": null,
   "id": "079b1ef6",
   "metadata": {},
   "outputs": [],
   "source": [
    "# First I have to split the data. The scaling has to be fitted, which means I need my Train dataset\n",
    "# Note: When scaling, fit on train and then apply to validate and test. \n",
    "train , validate, test = wrangle.wrangle_zillow()"
   ]
  },
  {
   "cell_type": "code",
   "execution_count": 23,
   "id": "d5b6603b",
   "metadata": {},
   "outputs": [
    {
     "data": {
      "text/plain": [
       "0.1338936968675806"
      ]
     },
     "execution_count": 23,
     "metadata": {},
     "output_type": "execute_result"
    }
   ],
   "source": [
    "def Min_Max_Scaler(train, validate, test):\n",
    "    \"\"\"\n",
    "    Takes in the pre-split data and uses train to fit the scaler. The scaler is then applied to all dataframes and \n",
    "    the dataframes are returned in thier scaled form.\n",
    "    \"\"\"\n",
    "    # 1. Create the object\n",
    "    scaler = sklearn.preprocessing.MinMaxScaler()\n",
    "\n",
    "    # 2. Fit the object (learn the min and max value)\n",
    "    scaler.fit(train[['taxamount', 'tax_value']])\n",
    "\n",
    "    # 3. Use the object (use the min, max to do the transformation)\n",
    "    train[['taxamount', 'tax_value']] = scaler.transform(train[['taxamount', 'tax_value']])\n",
    "    test[['taxamount', 'tax_value']] = scaler.transform(test[['taxamount', 'tax_value']])\n",
    "    validate[['taxamount', 'tax_value']] = scaler.transform(validate[['taxamount', 'tax_value']])\n",
    "    \n",
    "    return train, validate, test"
   ]
  },
  {
   "cell_type": "code",
   "execution_count": null,
   "id": "ff8ff1d8",
   "metadata": {},
   "outputs": [],
   "source": [
    "remake wrangle, then scale data"
   ]
  },
  {
   "cell_type": "markdown",
   "id": "811f51a4",
   "metadata": {},
   "source": [
    "Plan -> Acquire -> Prepare -> Explore -> Model & Evaluate -> Deliver\n"
   ]
  }
 ],
 "metadata": {
  "kernelspec": {
   "display_name": "Python 3",
   "language": "python",
   "name": "python3"
  },
  "language_info": {
   "codemirror_mode": {
    "name": "ipython",
    "version": 3
   },
   "file_extension": ".py",
   "mimetype": "text/x-python",
   "name": "python",
   "nbconvert_exporter": "python",
   "pygments_lexer": "ipython3",
   "version": "3.8.8"
  }
 },
 "nbformat": 4,
 "nbformat_minor": 5
}
